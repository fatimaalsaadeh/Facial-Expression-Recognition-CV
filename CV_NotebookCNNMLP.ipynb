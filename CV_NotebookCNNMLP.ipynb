{
 "cells": [
  {
   "cell_type": "markdown",
   "metadata": {},
   "source": [
    "## Import Libraries"
   ]
  },
  {
   "cell_type": "code",
   "execution_count": 1,
   "metadata": {},
   "outputs": [
    {
     "name": "stderr",
     "output_type": "stream",
     "text": [
      "Using TensorFlow backend.\n"
     ]
    }
   ],
   "source": [
    "import numpy as np \n",
    "import pandas as pd\n",
    "import tensorflow as tf\n",
    "import matplotlib.image as mpimg\n",
    "import sklearn\n",
    "from sklearn.metrics import confusion_matrix \n",
    "from scipy.spatial.distance import cdist\n",
    "from skimage.measure import label, regionprops, moments, moments_central, moments_normalized, moments_hu\n",
    "from skimage.transform import rescale, resize, downscale_local_mean\n",
    "from skimage import io, exposure, feature\n",
    "from sklearn.svm import SVC\n",
    "from sklearn.metrics import accuracy_score\n",
    "import matplotlib.pyplot as plt\n",
    "from matplotlib.patches import Rectangle \n",
    "import pickle\n",
    "import cv2\n",
    "plt.rcParams[\"figure.figsize\"] = (20,3)\n",
    "import math\n",
    "import tensorflow.keras.utils as utils\n",
    "from sklearn.preprocessing import LabelEncoder\n",
    "from keras import optimizers\n",
    "from tensorflow.keras import Sequential\n",
    "from tensorflow.keras.layers import Dense , Activation , Dropout ,Flatten,  MaxPooling2D, Conv2D, BatchNormalization\n",
    "from tensorflow.keras.preprocessing.image import ImageDataGenerator\n",
    "from tensorflow.keras.callbacks import ModelCheckpoint, EarlyStopping, ReduceLROnPlateau\n",
    "from sklearn.model_selection import cross_val_predict, cross_val_score"
   ]
  },
  {
   "cell_type": "markdown",
   "metadata": {},
   "source": [
    "## Data PreProcessing Techniques"
   ]
  },
  {
   "cell_type": "code",
   "execution_count": 2,
   "metadata": {},
   "outputs": [],
   "source": [
    "def face_detection(img):\n",
    "    # Read image from your local file system\n",
    "    original_image = img\n",
    "    # Convert color image to grayscale for Viola-Jones\n",
    "    grayscale_image = cv2.cvtColor(original_image, cv2.COLOR_BGR2GRAY)\n",
    "    # Load the classifier and create a cascade object for face detection\n",
    "    face_cascade = cv2.CascadeClassifier('haarcascade_frontalface_alt.xml')\n",
    "    detected_faces = face_cascade.detectMultiScale(grayscale_image)\n",
    "    for (column, row, width, height) in detected_faces:\n",
    "        cv2.rectangle(\n",
    "            original_image,\n",
    "            (column, row),\n",
    "            (column + width, row + height),\n",
    "            (0, 255, 0),\n",
    "            2\n",
    "        )\n",
    "        sub_face = img[row:row+height, column:column+width]\n",
    "    return sub_face\n",
    "\n",
    "#https://docs.opencv.org/master/d4/d13/tutorial_py_filtering.html\n",
    "def smoothing(img, d=5, sigmaColor=65, sigmaSpace=65):\n",
    "    blur_img = cv2.bilateralFilter(img,d,sigmaColor,sigmaSpace)\n",
    "    return blur_img\n",
    "\n",
    "#https://docs.opencv.org/3.4/d4/d1b/tutorial_histogram_equalization.html\n",
    "def histogram_equalization(img):\n",
    "    img = cv2.cvtColor(img, cv2.COLOR_BGR2GRAY)\n",
    "    dst = cv2.equalizeHist(img)\n",
    "    return dst\n"
   ]
  },
  {
   "cell_type": "markdown",
   "metadata": {},
   "source": [
    "## Data Download, Preperation and Explorationa, PreProcessing"
   ]
  },
  {
   "cell_type": "code",
   "execution_count": 3,
   "metadata": {},
   "outputs": [],
   "source": [
    "# get one image function and resize\n",
    "def get_image(emotion_folders, emotion, img,is_filter=False, filters=None, log_it=False):\n",
    "    input_img=cv2.imread(emotion_folders + '/'+ emotion + '/'+ img )\n",
    "    if is_filter and filters == '1':\n",
    "        input_img = smoothing(input_img)\n",
    "    elif is_filter and filters == '2':\n",
    "        input_img = face_detection(input_img)\n",
    "    elif is_filter and filters == '3':\n",
    "        input_img = histogram_equalization(input_img)\n",
    "    input_img_resize=cv2.resize(input_img,(100,100))\n",
    "    if log_it:\n",
    "        print ('Loaded image for emotion: '+str(emotion))\n",
    "    return input_img_resize\n",
    "\n",
    "# get one image function and resize\n",
    "def get_all_images(path, all_emotions_folders,is_filter=False, filters=None, log_it=False):\n",
    "    emotions_list = os.listdir(path)\n",
    "    indicies = []\n",
    "    \n",
    "    emos = []\n",
    "    num_emos = []\n",
    "    img_labels = []\n",
    "    img_all_data=[]\n",
    "    log_it=True\n",
    "    for emotion in emotions_list:\n",
    "        if emotion !='.DS_Store' and emotion!='.ipynb_checkpoints':\n",
    "            img_list=os.listdir(path+'/'+ emotion) \n",
    "            if '.ipynb_checkpoints' in img_list: img_list.remove('.ipynb_checkpoints')\n",
    "            emos.append(emotion)\n",
    "            num_emos.append(len(img_list))\n",
    "            print ('Loaded images for emotion: '+str(emotion)+', number of emotions: '+str(len(img_list)))\n",
    "            for img in img_list:\n",
    "                input_img_resize=get_image(path, emotion,img, is_filter, filters, log_it)\n",
    "                if log_it:\n",
    "                    indicies.append(len(img_all_data))\n",
    "                img_all_data.append(input_img_resize)\n",
    "                img_labels.append(emotion)\n",
    "                log_it=False\n",
    "            log_it=True\n",
    "    img_data = np.array(img_all_data)\n",
    "    img_labels = np.array(img_labels)\n",
    "    # why to divide by 255 The reason is that if the color intensity is a float\n",
    "    #, then matplotlib expects it to range from 0 to 1. If an int, \n",
    "    #then it expects 0 to 255. So you can either force all the numbers to int or scale them all by 1/255.\n",
    "    #https://stackoverflow.com/questions/49643907/clipping-input-data-to-the-valid-range-for-imshow-with-rgb-data-0-1-for-floa\n",
    "    img_data = img_data.astype('float32')/255\n",
    "    return img_data,img_labels, indicies\n",
    "def standarize(data_list):\n",
    "    stand = []\n",
    "    for i in data_list:\n",
    "        standi = (i-i.mean())/i.std()\n",
    "        stand.append(standi)\n",
    "    return np.array(stand).astype('float32')"
   ]
  },
  {
   "cell_type": "code",
   "execution_count": 4,
   "metadata": {},
   "outputs": [
    {
     "name": "stdout",
     "output_type": "stream",
     "text": [
      "One image Show\n",
      "Loaded image for emotion: anger\n",
      "(100, 100, 3)\n"
     ]
    },
    {
     "data": {
      "image/png": "[encoded data removed]",
      "text/plain": [
       "<Figure size 1440x216 with 1 Axes>"
      ]
     },
     "metadata": {
      "needs_background": "light"
     },
     "output_type": "display_data"
    },
    {
     "name": "stdout",
     "output_type": "stream",
     "text": [
      "One image with face detection\n",
      "Loaded image for emotion: anger\n",
      "(100, 100, 3)\n"
     ]
    },
    {
     "data": {
      "image/png": "[encoded data removed]",
      "text/plain": [
       "<Figure size 1440x216 with 1 Axes>"
      ]
     },
     "metadata": {
      "needs_background": "light"
     },
     "output_type": "display_data"
    },
    {
     "name": "stdout",
     "output_type": "stream",
     "text": [
      "One image with smoothing\n",
      "Loaded image for emotion: anger\n",
      "(100, 100, 3)\n"
     ]
    },
    {
     "data": {
      "image/png": "[encoded data removed]",
      "text/plain": [
       "<Figure size 1440x216 with 1 Axes>"
      ]
     },
     "metadata": {
      "needs_background": "light"
     },
     "output_type": "display_data"
    },
    {
     "name": "stdout",
     "output_type": "stream",
     "text": [
      "One image with histogram equalization\n",
      "Loaded image for emotion: anger\n",
      "(100, 100)\n"
     ]
    },
    {
     "data": {
      "image/png": "[encoded data removed]",
      "text/plain": [
       "<Figure size 1440x216 with 1 Axes>"
      ]
     },
     "metadata": {
      "needs_background": "light"
     },
     "output_type": "display_data"
    }
   ],
   "source": [
    "import os, cv2\n",
    "path = 'archive/CK+48'\n",
    "\n",
    "all_emotions_folders = os.listdir(path)\n",
    "if '.DS_Store' in all_emotions_folders: all_emotions_folders.remove('.DS_Store')\n",
    "if '.ipynb_checkpoints' in all_emotions_folders: all_emotions_folders.remove('.ipynb_checkpoints')\n",
    "\n",
    "print(\"One image Show\")\n",
    "img_list=os.listdir(path+'/'+ all_emotions_folders[0])\n",
    "first_image = get_image(path, all_emotions_folders[0], img_list[0], is_filter=False, filters=None, log_it=True)\n",
    "print(first_image.shape)\n",
    "io.imshow(first_image) \n",
    "plt.title('Image with no filter') \n",
    "io.show()\n",
    "\n",
    "print(\"One image with face detection\")\n",
    "first_image = get_image(path, all_emotions_folders[0], img_list[0], is_filter=True, filters='2', log_it=True)\n",
    "print(first_image.shape)\n",
    "io.imshow(first_image) \n",
    "plt.title('Image after face detection and cropping') \n",
    "io.show()\n",
    "\n",
    "print(\"One image with smoothing\")\n",
    "first_image = get_image(path, all_emotions_folders[0], img_list[0], is_filter=True, filters='1', log_it=True)\n",
    "print(first_image.shape)\n",
    "io.imshow(first_image) \n",
    "plt.title('Image after smoothing') \n",
    "io.show()\n",
    "\n",
    "print(\"One image with histogram equalization\")\n",
    "first_image = get_image(path, all_emotions_folders[0], img_list[0], is_filter=True, filters='3', log_it=True)\n",
    "print(first_image.shape)\n",
    "io.imshow(first_image) \n",
    "plt.title('Image after smoothing') \n",
    "io.show()"
   ]
  },
  {
   "cell_type": "code",
   "execution_count": 5,
   "metadata": {},
   "outputs": [],
   "source": [
    "from skimage.filters import gabor"
   ]
  },
  {
   "cell_type": "code",
   "execution_count": 6,
   "metadata": {},
   "outputs": [
    {
     "name": "stdout",
     "output_type": "stream",
     "text": [
      "Loaded images for emotion: anger, number of emotions: 135\n",
      "Loaded image for emotion: anger\n",
      "Loaded images for emotion: contempt, number of emotions: 54\n",
      "Loaded image for emotion: contempt\n",
      "Loaded images for emotion: disgust, number of emotions: 177\n",
      "Loaded image for emotion: disgust\n",
      "Loaded images for emotion: fear, number of emotions: 75\n",
      "Loaded image for emotion: fear\n",
      "Loaded images for emotion: happy, number of emotions: 207\n",
      "Loaded image for emotion: happy\n",
      "Loaded images for emotion: sadness, number of emotions: 84\n",
      "Loaded image for emotion: sadness\n",
      "Loaded images for emotion: surprise, number of emotions: 249\n",
      "Loaded image for emotion: surprise\n"
     ]
    }
   ],
   "source": [
    "img_data, img_labels, indicies = get_all_images(path, all_emotions_folders, is_filter=False, filters='2', log_it=True)"
   ]
  },
  {
   "cell_type": "code",
   "execution_count": 7,
   "metadata": {},
   "outputs": [],
   "source": [
    "imgs_features=[]\n",
    "for img in img_data:\n",
    "    gray = cv2.cvtColor(img, cv2.COLOR_BGR2GRAY)\n",
    "    temp=[]\n",
    "    for i in range(0,len(gray)):\n",
    "        temp2=[]\n",
    "        for j in range(0,len(gray[0])):\n",
    "            temp2.append([gray[i][j]])\n",
    "        temp.append(temp2)\n",
    "    imgs_features.append(temp)\n",
    "imgs_features=np.asarray(imgs_features)"
   ]
  },
  {
   "cell_type": "code",
   "execution_count": 8,
   "metadata": {},
   "outputs": [
    {
     "data": {
      "text/plain": [
       "(981, 100, 100, 1)"
      ]
     },
     "execution_count": 8,
     "metadata": {},
     "output_type": "execute_result"
    }
   ],
   "source": [
    "imgs_features.shape"
   ]
  },
  {
   "cell_type": "markdown",
   "metadata": {},
   "source": [
    "## Train and Test Dataset Split"
   ]
  },
  {
   "cell_type": "code",
   "execution_count": 9,
   "metadata": {},
   "outputs": [
    {
     "name": "stdout",
     "output_type": "stream",
     "text": [
      "{0, 1, 2, 3, 4, 5, 6}\n"
     ]
    }
   ],
   "source": [
    "label_encoder = LabelEncoder()\n",
    "labels_encoded = label_encoder.fit_transform(img_labels)\n",
    "print(set(labels_encoded))\n",
    "labels_final = utils.to_categorical(labels_encoded, 7)\n",
    "features_shuffled, labels_shuffled = sklearn.utils.shuffle(imgs_features, labels_final)"
   ]
  },
  {
   "cell_type": "code",
   "execution_count": 10,
   "metadata": {},
   "outputs": [
    {
     "name": "stdout",
     "output_type": "stream",
     "text": [
      "(784, 100, 100, 1)\n",
      "(197, 100, 100, 1)\n",
      "[0. 0. 1. 0. 0. 0. 0.]\n"
     ]
    }
   ],
   "source": [
    "train_len = int(.8 * features_shuffled.shape[0])\n",
    "all_len = int(len(features_shuffled))\n",
    "train_ifeatures = features_shuffled[:train_len, :, :, :]\n",
    "train_labels = labels_shuffled[:train_len]\n",
    "test_ifeatures = features_shuffled[train_len:, :, :, :]\n",
    "test_labels = labels_shuffled[train_len:]\n",
    "\n",
    "\n",
    "print(train_ifeatures.shape)\n",
    "print(test_ifeatures.shape)\n",
    "print(test_labels[1])"
   ]
  },
  {
   "cell_type": "code",
   "execution_count": 14,
   "metadata": {},
   "outputs": [],
   "source": [
    "def create_model(optim):\n",
    "    input_shape=(100,100,1)\n",
    "    model = Sequential()\n",
    "    model.add(Conv2D(20, (5, 5), input_shape=input_shape, padding='same'))\n",
    "    model.add(BatchNormalization())\n",
    "    model.add(Activation('relu'))  \n",
    "    model.add(MaxPooling2D(pool_size=(2, 2)))\n",
    "    \n",
    "    model.add(Conv2D(40, (5, 5), padding='same'))\n",
    "    model.add(BatchNormalization())\n",
    "    model.add(Activation('relu'))  \n",
    "    model.add(MaxPooling2D(pool_size=(2, 2),strides=(2,2)))\n",
    "    \n",
    "    model.add(Conv2D(60, (3, 3), padding='same'))\n",
    "    model.add(BatchNormalization())\n",
    "    model.add(Activation('relu'))\n",
    "    model.add(MaxPooling2D(pool_size=(2, 2),strides=(2,2)))\n",
    "    \n",
    "    model.add(Conv2D(30, (3, 3), padding='same'))\n",
    "    model.add(BatchNormalization())\n",
    "    model.add(Activation('relu'))\n",
    "    \n",
    "    model.add(Flatten())\n",
    "    model.add(Dense(100))\n",
    "    model.add(BatchNormalization())\n",
    "    model.add(Activation('relu'))\n",
    "\n",
    "    model.add(Dense(7, activation = 'softmax'))\n",
    "\n",
    "    model.compile(loss='categorical_crossentropy', metrics=['accuracy'],optimizer=optim)\n",
    "    \n",
    "    return model"
   ]
  },
  {
   "cell_type": "code",
   "execution_count": 17,
   "metadata": {},
   "outputs": [
    {
     "name": "stdout",
     "output_type": "stream",
     "text": [
      "Model: \"sequential_2\"\n",
      "_________________________________________________________________\n",
      "Layer (type)                 Output Shape              Param #   \n",
      "=================================================================\n",
      "conv2d_8 (Conv2D)            (None, 100, 100, 20)      520       \n",
      "_________________________________________________________________\n",
      "batch_normalization_10 (Batc (None, 100, 100, 20)      80        \n",
      "_________________________________________________________________\n",
      "activation_10 (Activation)   (None, 100, 100, 20)      0         \n",
      "_________________________________________________________________\n",
      "max_pooling2d_6 (MaxPooling2 (None, 50, 50, 20)        0         \n",
      "_________________________________________________________________\n",
      "conv2d_9 (Conv2D)            (None, 50, 50, 40)        20040     \n",
      "_________________________________________________________________\n",
      "batch_normalization_11 (Batc (None, 50, 50, 40)        160       \n",
      "_________________________________________________________________\n",
      "activation_11 (Activation)   (None, 50, 50, 40)        0         \n",
      "_________________________________________________________________\n",
      "max_pooling2d_7 (MaxPooling2 (None, 25, 25, 40)        0         \n",
      "_________________________________________________________________\n",
      "conv2d_10 (Conv2D)           (None, 25, 25, 60)        21660     \n",
      "_________________________________________________________________\n",
      "batch_normalization_12 (Batc (None, 25, 25, 60)        240       \n",
      "_________________________________________________________________\n",
      "activation_12 (Activation)   (None, 25, 25, 60)        0         \n",
      "_________________________________________________________________\n",
      "max_pooling2d_8 (MaxPooling2 (None, 12, 12, 60)        0         \n",
      "_________________________________________________________________\n",
      "conv2d_11 (Conv2D)           (None, 12, 12, 30)        16230     \n",
      "_________________________________________________________________\n",
      "batch_normalization_13 (Batc (None, 12, 12, 30)        120       \n",
      "_________________________________________________________________\n",
      "activation_13 (Activation)   (None, 12, 12, 30)        0         \n",
      "_________________________________________________________________\n",
      "flatten_2 (Flatten)          (None, 4320)              0         \n",
      "_________________________________________________________________\n",
      "dense_4 (Dense)              (None, 100)               432100    \n",
      "_________________________________________________________________\n",
      "batch_normalization_14 (Batc (None, 100)               400       \n",
      "_________________________________________________________________\n",
      "activation_14 (Activation)   (None, 100)               0         \n",
      "_________________________________________________________________\n",
      "dense_5 (Dense)              (None, 7)                 707       \n",
      "=================================================================\n",
      "Total params: 492,257\n",
      "Trainable params: 491,757\n",
      "Non-trainable params: 500\n",
      "_________________________________________________________________\n"
     ]
    }
   ],
   "source": [
    "optimizer = tf.keras.optimizers.SGD(lr=0.1, decay=0.01)\n",
    "\n",
    "model = create_model(optimizer)\n",
    "model.summary()"
   ]
  },
  {
   "cell_type": "code",
   "execution_count": 18,
   "metadata": {},
   "outputs": [
    {
     "name": "stdout",
     "output_type": "stream",
     "text": [
      "Epoch 1/5\n",
      "23/23 - 2s - loss: 0.9688 - accuracy: 0.6780 - val_loss: 1.8739 - val_accuracy: 0.1899\n",
      "Epoch 2/5\n",
      "23/23 - 2s - loss: 0.2729 - accuracy: 0.9319 - val_loss: 1.8736 - val_accuracy: 0.1899\n",
      "Epoch 3/5\n",
      "23/23 - 2s - loss: 0.1199 - accuracy: 0.9830 - val_loss: 1.9315 - val_accuracy: 0.2025\n",
      "Epoch 4/5\n",
      "23/23 - 2s - loss: 0.0644 - accuracy: 0.9943 - val_loss: 2.1253 - val_accuracy: 0.1646\n",
      "Epoch 5/5\n",
      "23/23 - 2s - loss: 0.0491 - accuracy: 0.9986 - val_loss: 2.1902 - val_accuracy: 0.1519\n"
     ]
    }
   ],
   "source": [
    "early_stopping = EarlyStopping(\n",
    "\n",
    "    monitor='val_accuracy',\n",
    "    min_delta=0.00005,\n",
    "    patience=11,\n",
    "    verbose=1,\n",
    "    restore_best_weights=True,\n",
    ")\n",
    "\n",
    "callbacks = [\n",
    "    early_stopping\n",
    "]\n",
    "history = model.fit(x=train_ifeatures, y= train_labels, validation_split=0.1, batch_size=32, \n",
    "          epochs=5, shuffle=True, verbose=2 \n",
    "         )"
   ]
  },
  {
   "cell_type": "code",
   "execution_count": null,
   "metadata": {},
   "outputs": [],
   "source": []
  },
  {
   "cell_type": "code",
   "execution_count": null,
   "metadata": {},
   "outputs": [],
   "source": []
  },
  {
   "cell_type": "code",
   "execution_count": null,
   "metadata": {},
   "outputs": [],
   "source": []
  },
  {
   "cell_type": "code",
   "execution_count": null,
   "metadata": {},
   "outputs": [],
   "source": []
  }
 ],
 "metadata": {
  "kernelspec": {
   "display_name": "Python 3 (3.8)",
   "language": "python",
   "name": "python3"
  },
  "language_info": {
   "codemirror_mode": {
    "name": "ipython",
    "version": 3
   },
   "file_extension": ".py",
   "mimetype": "text/x-python",
   "name": "python",
   "nbconvert_exporter": "python",
   "pygments_lexer": "ipython3",
   "version": "3.8.2"
  }
 },
 "nbformat": 4,
 "nbformat_minor": 4
}
